{
 "cells": [
  {
   "cell_type": "code",
   "execution_count": 10,
   "metadata": {},
   "outputs": [
    {
     "name": "stdout",
     "output_type": "stream",
     "text": [
      "16\n",
      "4\n",
      "9\n",
      "2\n"
     ]
    }
   ],
   "source": [
    "'''\n",
    "**Question 1**\n",
    "'''\n",
    "\n",
    "def mySqrt(x):\n",
    "    if x == 0:\n",
    "        return 0\n",
    "\n",
    "    left = 1\n",
    "    right = x\n",
    "\n",
    "    while left <= right:\n",
    "        mid = (left + right) // 2\n",
    "        square = mid * mid\n",
    "        print(square)\n",
    "\n",
    "        if square == x:\n",
    "            return mid\n",
    "        elif square < x:\n",
    "            left = mid + 1\n",
    "        else:\n",
    "            right = mid - 1\n",
    "\n",
    "    return right  # Return the integer part of the square root\n",
    "\n",
    "# Test the function\n",
    "x = 8\n",
    "result = mySqrt(x)\n",
    "print(result)"
   ]
  },
  {
   "cell_type": "code",
   "execution_count": 4,
   "metadata": {},
   "outputs": [
    {
     "name": "stdout",
     "output_type": "stream",
     "text": [
      "2\n"
     ]
    }
   ],
   "source": [
    "'''\n",
    "**Question 2**\n",
    "'''\n",
    "def findPeakElement(nums):\n",
    "    left = 0\n",
    "    right = len(nums) - 1\n",
    "\n",
    "    while left < right:\n",
    "        mid = left + (right - left) // 2\n",
    "\n",
    "        # Check if mid is a peak element\n",
    "        if nums[mid] > nums[mid + 1]:\n",
    "            right = mid\n",
    "        else:\n",
    "            left = mid + 1\n",
    "\n",
    "    return left  # Return the index of the peak element\n",
    "\n",
    "# Test the function\n",
    "nums = [1, 2, 3, 1]\n",
    "result = findPeakElement(nums)\n",
    "print(result)"
   ]
  },
  {
   "cell_type": "code",
   "execution_count": 5,
   "metadata": {},
   "outputs": [
    {
     "name": "stdout",
     "output_type": "stream",
     "text": [
      "2\n"
     ]
    }
   ],
   "source": [
    "'''\n",
    "**Question 3**\n",
    "'''\n",
    "def missingNumber(nums):\n",
    "    n = len(nums)\n",
    "    expected_sum = n * (n + 1) // 2\n",
    "    actual_sum = sum(nums)\n",
    "    return expected_sum - actual_sum\n",
    "\n",
    "# Test the function\n",
    "nums = [3, 0, 1]\n",
    "result = missingNumber(nums)\n",
    "print(result)\n"
   ]
  },
  {
   "cell_type": "code",
   "execution_count": 8,
   "metadata": {},
   "outputs": [
    {
     "name": "stdout",
     "output_type": "stream",
     "text": [
      "2\n"
     ]
    }
   ],
   "source": [
    "'''\n",
    "**Question 4**\n",
    "'''\n",
    "def findDuplicate(nums):\n",
    "    slow = nums[0]  # Slow pointer\n",
    "    fast = nums[0]  # Fast pointer\n",
    "\n",
    "    # Move the pointers until they meet inside the cycle\n",
    "    while True:\n",
    "        slow = nums[slow]  # Move slow pointer by one step\n",
    "        fast = nums[nums[fast]]  # Move fast pointer by two steps\n",
    "        if slow == fast:\n",
    "            break\n",
    "\n",
    "    # Move one pointer to the start and keep the other at the meeting point\n",
    "    slow = nums[0]\n",
    "    while slow != fast:\n",
    "        slow = nums[slow]  # Move both pointers by one step\n",
    "        fast = nums[fast]\n",
    "\n",
    "    return slow  # Return the repeated number\n",
    "\n",
    "# Test the function\n",
    "nums = [1, 3, 4, 2, 2]\n",
    "result = findDuplicate(nums)\n",
    "print(result)\n"
   ]
  },
  {
   "cell_type": "code",
   "execution_count": 5,
   "metadata": {},
   "outputs": [
    {
     "name": "stdout",
     "output_type": "stream",
     "text": [
      "[3, 4]\n"
     ]
    }
   ],
   "source": [
    "'''\n",
    "**Question 7**\n",
    "'''\n",
    "\n",
    "def searchRange(nums, target):\n",
    "    start = end = -1\n",
    "    \n",
    "    for i in range(len(nums)):\n",
    "        if nums[i] == target:\n",
    "            if start == -1:\n",
    "                start = i\n",
    "            else:\n",
    "                end = i\n",
    "    \n",
    "    return [start, end]\n",
    "\n",
    "nums = [5, 7, 7, 8, 8, 10]\n",
    "target = 8\n",
    "\n",
    "result = searchRange(nums, target)\n",
    "print(result)  "
   ]
  },
  {
   "cell_type": "code",
   "execution_count": 6,
   "metadata": {},
   "outputs": [
    {
     "name": "stdout",
     "output_type": "stream",
     "text": [
      "[2, 2]\n"
     ]
    },
    {
     "data": {
      "text/plain": [
       "[38]"
      ]
     },
     "execution_count": 6,
     "metadata": {},
     "output_type": "execute_result"
    }
   ],
   "source": [
    "'''\n",
    "**Question 8**'''\n",
    "def intersect(nums1, nums2):\n",
    "    nums1.sort()\n",
    "    nums2.sort()\n",
    "    intersection = []\n",
    "    i = j = 0\n",
    "    \n",
    "\n",
    "    while i < len(nums1) and j < len(nums2):\n",
    "        if nums1[i] == nums2[j]:\n",
    "            intersection.append(nums1[i])\n",
    "            i += 1\n",
    "            j += 1\n",
    "        elif nums1[i] < nums2[j]:\n",
    "            i += 1\n",
    "        else:\n",
    "            j += 1\n",
    "    \n",
    "    return intersection\n",
    "\n",
    "nums1 = [1, 2, 2, 1]\n",
    "nums2 = [2, 2]\n",
    "\n",
    "result = intersect(nums1, nums2)\n",
    "print(result) \n",
    "\n",
    "\n",
    "#--------------------------------\n",
    "def intersection(array1, array2):\n",
    "    intersec = []\n",
    "    for i in array1:\n",
    "        if i in array2:\n",
    "            intersec.append(i)\n",
    "    return intersec\n",
    "\n",
    "array1 = [1,33,38,1]\n",
    "array2 = [38,38]\n",
    "intersection(array1,array2)"
   ]
  },
  {
   "cell_type": "code",
   "execution_count": null,
   "metadata": {},
   "outputs": [],
   "source": []
  }
 ],
 "metadata": {
  "kernelspec": {
   "display_name": "ineuron_class",
   "language": "python",
   "name": "python3"
  },
  "language_info": {
   "codemirror_mode": {
    "name": "ipython",
    "version": 3
   },
   "file_extension": ".py",
   "mimetype": "text/x-python",
   "name": "python",
   "nbconvert_exporter": "python",
   "pygments_lexer": "ipython3",
   "version": "3.10.2"
  },
  "orig_nbformat": 4
 },
 "nbformat": 4,
 "nbformat_minor": 2
}
