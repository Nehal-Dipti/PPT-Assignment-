{
 "cells": [
  {
   "cell_type": "code",
   "execution_count": 3,
   "metadata": {},
   "outputs": [
    {
     "data": {
      "text/plain": [
       "[2, 4, 6, 8, 10]"
      ]
     },
     "execution_count": 3,
     "metadata": {},
     "output_type": "execute_result"
    }
   ],
   "source": [
    "'''17. Write a function that takes a list of numbers as input and returns a new list containing only the even numbers from the input list. Use list comprehension to solve this problem.'''\n",
    "\n",
    "def ret_even(l):\n",
    "    return [ev for ev in l if ev%2==0]\n",
    "\n",
    "ret_even([1, 2, 3, 4, 5, 6, 7, 8, 9, 10])"
   ]
  },
  {
   "cell_type": "code",
   "execution_count": 5,
   "metadata": {},
   "outputs": [
    {
     "name": "stdout",
     "output_type": "stream",
     "text": [
      "The function my_function took 2.0083510875701904 seconds to execute.\n"
     ]
    }
   ],
   "source": [
    "'''18. Implement a decorator function called ‘timer’ that measures the execution time of a function. The ‘timer’ decorator should print the time taken by the decorated function to execute. Use the ‘time’ module in Python to calculate the execution time.'''\n",
    "\n",
    "\n",
    "import time\n",
    "\n",
    "def timer(func):\n",
    "    def wrapper(*args, **kwargs):\n",
    "        start_time = time.time()\n",
    "        result = func(*args, **kwargs)\n",
    "        end_time = time.time()\n",
    "        execution_time = end_time - start_time\n",
    "        print(f\"The function {func.__name__} took {execution_time} seconds to execute.\")\n",
    "        return result\n",
    "    return wrapper\n",
    "\n",
    "@timer\n",
    "def my_function():\n",
    "    # Function code goes here\n",
    "    time.sleep(2)\n",
    "\n",
    "my_function()\n"
   ]
  },
  {
   "cell_type": "code",
   "execution_count": 10,
   "metadata": {},
   "outputs": [
    {
     "name": "stdout",
     "output_type": "stream",
     "text": [
      "Mean: 20.0\n"
     ]
    }
   ],
   "source": [
    "'''19. Write a function called ‘calculate_mean’ that takes a list of numbers as input and returns the mean (average) of the numbers. The function should calculate the mean using the sum of the numbers divided by the total count.\n",
    "'''\n",
    "\n",
    "def calculate_mean(numbers):\n",
    "    total=0\n",
    "    count=0\n",
    "    for i in numbers:\n",
    "        total+=i\n",
    "        count+=1\n",
    "   \n",
    "    mean = total / count\n",
    "    return mean\n",
    "\n",
    "data = [10, 15, 20, 25, 30]\n",
    "mean_value = calculate_mean(data)\n",
    "print(\"Mean:\", mean_value)\n"
   ]
  },
  {
   "cell_type": "code",
   "execution_count": 7,
   "metadata": {},
   "outputs": [
    {
     "name": "stdout",
     "output_type": "stream",
     "text": [
      "P-value: 0.09434977284243756\n"
     ]
    }
   ],
   "source": [
    "'''20. Write a function called ‘perform_hypothesis_test’ that takes two lists of numbers as input, representing two samples. The function should perform a two-sample t-test and return the p-value. Use the ‘scipy.stats’ module in Python to calculate the t-test and p-value.\n",
    "'''\n",
    "\n",
    "from scipy import stats\n",
    "\n",
    "def perform_hypothesis_test(sample1, sample2):\n",
    "    t_statistic, p_value = stats.ttest_ind(sample1, sample2)\n",
    "    return p_value\n",
    "\n",
    "sample1 = [5, 10, 15, 20, 25]\n",
    "sample2 = [10, 20, 30, 40, 50]\n",
    "p_value = perform_hypothesis_test(sample1, sample2)\n",
    "print(\"P-value:\", p_value)\n"
   ]
  },
  {
   "cell_type": "code",
   "execution_count": 9,
   "metadata": {},
   "outputs": [
    {
     "name": "stdout",
     "output_type": "stream",
     "text": [
      "P-value: 0.06668800000000008\n"
     ]
    }
   ],
   "source": [
    "import math\n",
    "\n",
    "def calculate_mean(sample):\n",
    "    return sum(sample) / len(sample)\n",
    "\n",
    "def calculate_standard_deviation(sample, sample_mean):\n",
    "    squared_diff_sum = sum([(x - sample_mean) ** 2 for x in sample])\n",
    "    variance = squared_diff_sum / len(sample)\n",
    "    return math.sqrt(variance)\n",
    "\n",
    "def calculate_t_statistic(sample1, sample2):\n",
    "    mean1 = calculate_mean(sample1)\n",
    "    mean2 = calculate_mean(sample2)\n",
    "    sd1 = calculate_standard_deviation(sample1, mean1)\n",
    "    sd2 = calculate_standard_deviation(sample2, mean2)\n",
    "    n1 = len(sample1)\n",
    "    n2 = len(sample2)\n",
    "    \n",
    "    standard_error = math.sqrt((sd1 ** 2) / n1 + (sd2 ** 2) / n2)\n",
    "    t_statistic = (mean1 - mean2) / standard_error\n",
    "    return t_statistic\n",
    "\n",
    "def perform_hypothesis_test(sample1, sample2):\n",
    "    t_statistic = calculate_t_statistic(sample1, sample2)\n",
    "    degrees_of_freedom = len(sample1) + len(sample2) - 2\n",
    "    p_value = calculate_p_value(t_statistic, degrees_of_freedom)\n",
    "    return p_value\n",
    "\n",
    "def calculate_p_value(t_statistic, degrees_of_freedom):\n",
    "    # Calculate the p-value using the t-distribution\n",
    "    # This example assumes a two-tailed test\n",
    "    # You can use statistical tables or implement the calculation yourself\n",
    "    # This implementation uses the cumulative distribution function (CDF) of the t-distribution\n",
    "    # Note: This implementation assumes equal variances between the two samples\n",
    "    p_value = (1 - stats.t.cdf(abs(t_statistic), degrees_of_freedom)) * 2\n",
    "    return p_value\n",
    "\n",
    "# Usage example\n",
    "sample1 = [5, 10, 15, 20, 25]\n",
    "sample2 = [10, 20, 30, 40, 50]\n",
    "p_value = perform_hypothesis_test(sample1, sample2)\n",
    "print(\"P-value:\", p_value)\n"
   ]
  },
  {
   "cell_type": "code",
   "execution_count": null,
   "metadata": {},
   "outputs": [],
   "source": []
  }
 ],
 "metadata": {
  "kernelspec": {
   "display_name": "ineuron_class",
   "language": "python",
   "name": "python3"
  },
  "language_info": {
   "codemirror_mode": {
    "name": "ipython",
    "version": 3
   },
   "file_extension": ".py",
   "mimetype": "text/x-python",
   "name": "python",
   "nbconvert_exporter": "python",
   "pygments_lexer": "ipython3",
   "version": "3.10.2"
  },
  "orig_nbformat": 4
 },
 "nbformat": 4,
 "nbformat_minor": 2
}
